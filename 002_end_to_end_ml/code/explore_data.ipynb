{
 "cells": [
  {
   "cell_type": "code",
   "execution_count": 1,
   "metadata": {},
   "outputs": [],
   "source": [
    "import pandas as pd\n",
    "import random\n",
    "from faker import Faker"
   ]
  },
  {
   "cell_type": "code",
   "execution_count": 2,
   "metadata": {},
   "outputs": [],
   "source": [
    "fake = Faker()"
   ]
  },
  {
   "cell_type": "code",
   "execution_count": 12,
   "metadata": {},
   "outputs": [],
   "source": [
    "gender_options = [\"M\", \"F\"]\n",
    "diagnosis_options = [\"Myocardial Infarction\", \"Heart Failure\", \"Arrhythmia\", \"Hypertension\"]\n",
    "medication_options = [\"Atenolol\", \"Lisinopril\", \"Metoprolol\", \"Ramipril\", \"Digoxin\"]"
   ]
  },
  {
   "cell_type": "code",
   "execution_count": 13,
   "metadata": {},
   "outputs": [],
   "source": [
    "data = []\n",
    "for _ in range(10):\n",
    "    name = fake.name()\n",
    "    age = random.randint(30, 80)\n",
    "    gender = random.choice(gender_options)\n",
    "    diagnosis = random.choice(diagnosis_options)\n",
    "    diagnosis_date = fake.date_between(start_date=\"-10y\", end_date=\"today\")\n",
    "    medication = random.choice(medication_options)\n",
    "    urgency = random.randint(1, 5)\n",
    "    data.append([name, age, gender, diagnosis, diagnosis_date, medication, urgency])"
   ]
  },
  {
   "cell_type": "code",
   "execution_count": 15,
   "metadata": {},
   "outputs": [],
   "source": [
    "cardio_diagnostic_df = pd.DataFrame(data, columns=[\"Name\", \"Age\", \"Gender\", \"Diagnosis\", \"Diagnosis Date\", \"Medication\", \"Urgency Level\"])"
   ]
  },
  {
   "cell_type": "code",
   "execution_count": 16,
   "metadata": {},
   "outputs": [
    {
     "data": {
      "text/html": [
       "<div>\n",
       "<style scoped>\n",
       "    .dataframe tbody tr th:only-of-type {\n",
       "        vertical-align: middle;\n",
       "    }\n",
       "\n",
       "    .dataframe tbody tr th {\n",
       "        vertical-align: top;\n",
       "    }\n",
       "\n",
       "    .dataframe thead th {\n",
       "        text-align: right;\n",
       "    }\n",
       "</style>\n",
       "<table border=\"1\" class=\"dataframe\">\n",
       "  <thead>\n",
       "    <tr style=\"text-align: right;\">\n",
       "      <th></th>\n",
       "      <th>Name</th>\n",
       "      <th>Age</th>\n",
       "      <th>Gender</th>\n",
       "      <th>Diagnosis</th>\n",
       "      <th>Diagnosis Date</th>\n",
       "      <th>Medication</th>\n",
       "      <th>Urgency Level</th>\n",
       "    </tr>\n",
       "  </thead>\n",
       "  <tbody>\n",
       "    <tr>\n",
       "      <th>0</th>\n",
       "      <td>Joshua Roberts</td>\n",
       "      <td>66</td>\n",
       "      <td>F</td>\n",
       "      <td>Myocardial Infarction</td>\n",
       "      <td>2022-03-27</td>\n",
       "      <td>Metoprolol</td>\n",
       "      <td>2</td>\n",
       "    </tr>\n",
       "    <tr>\n",
       "      <th>1</th>\n",
       "      <td>Robert Kerr</td>\n",
       "      <td>37</td>\n",
       "      <td>F</td>\n",
       "      <td>Myocardial Infarction</td>\n",
       "      <td>2018-12-31</td>\n",
       "      <td>Atenolol</td>\n",
       "      <td>5</td>\n",
       "    </tr>\n",
       "    <tr>\n",
       "      <th>2</th>\n",
       "      <td>Cynthia Richard</td>\n",
       "      <td>39</td>\n",
       "      <td>M</td>\n",
       "      <td>Heart Failure</td>\n",
       "      <td>2017-08-06</td>\n",
       "      <td>Atenolol</td>\n",
       "      <td>2</td>\n",
       "    </tr>\n",
       "    <tr>\n",
       "      <th>3</th>\n",
       "      <td>Brooke Robinson</td>\n",
       "      <td>55</td>\n",
       "      <td>M</td>\n",
       "      <td>Arrhythmia</td>\n",
       "      <td>2016-06-01</td>\n",
       "      <td>Digoxin</td>\n",
       "      <td>1</td>\n",
       "    </tr>\n",
       "    <tr>\n",
       "      <th>4</th>\n",
       "      <td>Rebecca Ellis</td>\n",
       "      <td>69</td>\n",
       "      <td>M</td>\n",
       "      <td>Hypertension</td>\n",
       "      <td>2020-02-16</td>\n",
       "      <td>Lisinopril</td>\n",
       "      <td>3</td>\n",
       "    </tr>\n",
       "  </tbody>\n",
       "</table>\n",
       "</div>"
      ],
      "text/plain": [
       "              Name  Age Gender              Diagnosis Diagnosis Date  \\\n",
       "0   Joshua Roberts   66      F  Myocardial Infarction     2022-03-27   \n",
       "1      Robert Kerr   37      F  Myocardial Infarction     2018-12-31   \n",
       "2  Cynthia Richard   39      M          Heart Failure     2017-08-06   \n",
       "3  Brooke Robinson   55      M             Arrhythmia     2016-06-01   \n",
       "4    Rebecca Ellis   69      M           Hypertension     2020-02-16   \n",
       "\n",
       "   Medication  Urgency Level  \n",
       "0  Metoprolol              2  \n",
       "1    Atenolol              5  \n",
       "2    Atenolol              2  \n",
       "3     Digoxin              1  \n",
       "4  Lisinopril              3  "
      ]
     },
     "execution_count": 16,
     "metadata": {},
     "output_type": "execute_result"
    }
   ],
   "source": [
    "cardio_diagnostic_df.head(5)"
   ]
  },
  {
   "cell_type": "code",
   "execution_count": 18,
   "metadata": {},
   "outputs": [
    {
     "name": "stdout",
     "output_type": "stream",
     "text": [
      "<class 'pandas.core.frame.DataFrame'>\n",
      "RangeIndex: 10 entries, 0 to 9\n",
      "Data columns (total 7 columns):\n",
      " #   Column          Non-Null Count  Dtype \n",
      "---  ------          --------------  ----- \n",
      " 0   Name            10 non-null     object\n",
      " 1   Age             10 non-null     int64 \n",
      " 2   Gender          10 non-null     object\n",
      " 3   Diagnosis       10 non-null     object\n",
      " 4   Diagnosis Date  10 non-null     object\n",
      " 5   Medication      10 non-null     object\n",
      " 6   Urgency Level   10 non-null     int64 \n",
      "dtypes: int64(2), object(5)\n",
      "memory usage: 688.0+ bytes\n"
     ]
    }
   ],
   "source": [
    "cardio_diagnostic_df.info()"
   ]
  },
  {
   "cell_type": "code",
   "execution_count": 19,
   "metadata": {},
   "outputs": [
    {
     "data": {
      "text/plain": [
       "Name                Age  Gender  Diagnosis              Diagnosis Date  Medication  Urgency Level\n",
       "Brooke Robinson     55   M       Arrhythmia             2016-06-01      Digoxin     1                1\n",
       "Connie Stanley      52   F       Myocardial Infarction  2021-01-02      Atenolol    3                1\n",
       "Cynthia Richard     39   M       Heart Failure          2017-08-06      Atenolol    2                1\n",
       "Diane Munoz         79   F       Myocardial Infarction  2023-10-30      Digoxin     2                1\n",
       "Dorothy Richardson  75   M       Myocardial Infarction  2017-03-10      Metoprolol  4                1\n",
       "Joshua Roberts      66   F       Myocardial Infarction  2022-03-27      Metoprolol  2                1\n",
       "Michael Romero      43   M       Arrhythmia             2023-12-06      Ramipril    2                1\n",
       "Raymond Williams    57   F       Heart Failure          2021-09-07      Digoxin     2                1\n",
       "Rebecca Ellis       69   M       Hypertension           2020-02-16      Lisinopril  3                1\n",
       "Robert Kerr         37   F       Myocardial Infarction  2018-12-31      Atenolol    5                1\n",
       "Name: count, dtype: int64"
      ]
     },
     "execution_count": 19,
     "metadata": {},
     "output_type": "execute_result"
    }
   ],
   "source": [
    "cardio_diagnostic_df.value_counts()"
   ]
  },
  {
   "cell_type": "code",
   "execution_count": 20,
   "metadata": {},
   "outputs": [
    {
     "data": {
      "text/plain": [
       "Medication\n",
       "Atenolol      3\n",
       "Digoxin       3\n",
       "Metoprolol    2\n",
       "Lisinopril    1\n",
       "Ramipril      1\n",
       "Name: count, dtype: int64"
      ]
     },
     "execution_count": 20,
     "metadata": {},
     "output_type": "execute_result"
    }
   ],
   "source": [
    "cardio_diagnostic_df['Medication'].value_counts()"
   ]
  },
  {
   "cell_type": "code",
   "execution_count": 21,
   "metadata": {},
   "outputs": [
    {
     "data": {
      "text/plain": [
       "Gender\n",
       "F    5\n",
       "M    5\n",
       "Name: count, dtype: int64"
      ]
     },
     "execution_count": 21,
     "metadata": {},
     "output_type": "execute_result"
    }
   ],
   "source": [
    "cardio_diagnostic_df['Gender'].value_counts()"
   ]
  },
  {
   "cell_type": "code",
   "execution_count": 22,
   "metadata": {},
   "outputs": [
    {
     "data": {
      "text/plain": [
       "Diagnosis Date\n",
       "2022-03-27    1\n",
       "2018-12-31    1\n",
       "2017-08-06    1\n",
       "2016-06-01    1\n",
       "2020-02-16    1\n",
       "2023-10-30    1\n",
       "2023-12-06    1\n",
       "2021-01-02    1\n",
       "2021-09-07    1\n",
       "2017-03-10    1\n",
       "Name: count, dtype: int64"
      ]
     },
     "execution_count": 22,
     "metadata": {},
     "output_type": "execute_result"
    }
   ],
   "source": [
    "cardio_diagnostic_df['Diagnosis Date'].value_counts()"
   ]
  }
 ],
 "metadata": {
  "kernelspec": {
   "display_name": "generative",
   "language": "python",
   "name": "python3"
  },
  "language_info": {
   "codemirror_mode": {
    "name": "ipython",
    "version": 3
   },
   "file_extension": ".py",
   "mimetype": "text/x-python",
   "name": "python",
   "nbconvert_exporter": "python",
   "pygments_lexer": "ipython3",
   "version": "3.10.0"
  }
 },
 "nbformat": 4,
 "nbformat_minor": 2
}
