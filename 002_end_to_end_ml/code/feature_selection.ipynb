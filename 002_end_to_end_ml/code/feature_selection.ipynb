{
 "cells": [
  {
   "cell_type": "markdown",
   "metadata": {},
   "source": [
    "# Feature selection\n",
    "While preparing your data for modeling, it is important to ensure that you have a set of helpful features for the model to base its predictions (or diagnosis) on. In order to be helpful, features need to capture essential characteristics of the heart disease dataset in an orthogonal way; more data isn't always better! <br>\n",
    "\n",
    "You can use the sklearn.feature_selection.SelectFromModel module to select useful features. SelectFromModel implements a brute-force method that uses a RandomForestClassifier model to find the most salient features for the task of heart disease diagnosis. <br>\n",
    "\n",
    "RandomForestClassifier has been imported and the heart disease data features and target have been imported as X_train and y_train, respectively."
   ]
  },
  {
   "cell_type": "code",
   "execution_count": null,
   "metadata": {},
   "outputs": [],
   "source": [
    "import matplotlib as plt"
   ]
  },
  {
   "cell_type": "code",
   "execution_count": null,
   "metadata": {},
   "outputs": [],
   "source": [
    "# Define a random forest classifier with n_jobs = -1, 'balanced' class_weight, and max_depth = 5, and perform feature selection on heart_disease_df using .fit()."
   ]
  },
  {
   "cell_type": "code",
   "execution_count": null,
   "metadata": {},
   "outputs": [],
   "source": [
    "from sklearn.ensemble import RandomForestClassifier\n",
    "from sklearn.feature_selection import SelectFromModel"
   ]
  },
  {
   "cell_type": "code",
   "execution_count": null,
   "metadata": {},
   "outputs": [],
   "source": [
    "# Define the random forest model\n",
    "rf = RandomForestClassifier(n_jobs=-1, class_weight='balanced', max_depth=5)\n",
    "\n",
    "# Fit the random forest model to the training data\n",
    "rf.fit(X_train, y_train)\n",
    "\n",
    "# Create a SelectFromModel object\n",
    "selector = SelectFromModel(rf)\n",
    "\n",
    "# Fit the selector to the training data\n",
    "selector.fit(X_train, y_train)"
   ]
  },
  {
   "cell_type": "code",
   "execution_count": null,
   "metadata": {},
   "outputs": [],
   "source": [
    "# Define the feature selection object using the rf classifier you have created."
   ]
  },
  {
   "cell_type": "code",
   "execution_count": null,
   "metadata": {},
   "outputs": [],
   "source": [
    "from sklearn.feature_selection import SelectFromModel\n",
    "\n",
    "# Define the random forest model and fit to the training data\n",
    "rf = RandomForestClassifier(n_jobs=-1, class_weight='balanced', max_depth=5)\n",
    "rf.fit(X_train, y_train)\n",
    "\n",
    "# Define the feature selection object\n",
    "model = SelectFromModel(rf, prefit=True)"
   ]
  },
  {
   "cell_type": "code",
   "execution_count": null,
   "metadata": {},
   "outputs": [],
   "source": [
    "from sklearn.feature_selection import SelectFromModel\n",
    "\n",
    "# Define the random forest model and fit to the training data\n",
    "rf = RandomForestClassifier(n_jobs=-1, class_weight='balanced', max_depth=5)\n",
    "rf.fit(X_train, y_train)\n",
    "\n",
    "# Define the feature selection object\n",
    "model = SelectFromModel(rf, prefit=True)\n",
    "\n",
    "# Transform the training features\n",
    "X_train_transformed = model.transform(X_train)"
   ]
  },
  {
   "cell_type": "code",
   "execution_count": null,
   "metadata": {},
   "outputs": [],
   "source": [
    "# Get the selected features from the feature selector object, filter the DataFrame based on the features and print the selected features out."
   ]
  },
  {
   "cell_type": "code",
   "execution_count": null,
   "metadata": {},
   "outputs": [],
   "source": [
    "from sklearn.feature_selection import SelectFromModel\n",
    "\n",
    "# Define the random forest model and fit to the training data\n",
    "rf = RandomForestClassifier(n_jobs=-1, class_weight='balanced', max_depth=5)\n",
    "rf.fit(X_train, y_train)\n",
    "\n",
    "# Define the feature selection object\n",
    "model = SelectFromModel(rf, prefit=True)\n",
    "\n",
    "# Transform the training features\n",
    "X_train_transformed = model.transform(X_train)\n",
    "\n",
    "# Assuming heart_disease_df includes the target column, get feature names excluding the target\n",
    "original_features = X_train.columns.tolist()\n",
    "print(f\"Original features: {original_features}\")\n",
    "\n",
    "# Select the features deemed important by the SelectFromModel\n",
    "features_bool = model.get_support()\n",
    "\n",
    "selected_features = [feature for feature, is_selected in zip(original_features, features_bool) if is_selected]\n",
    "print(f\"\\nSelected features: {selected_features}\")\n",
    "\n",
    "# Create a DataFrame to hold feature importance data\n",
    "feature_importance = pd.DataFrame({\n",
    "    \"feature\": selected_features,\n",
    "    \"importance\": rf.feature_importances_[features_bool]\n",
    "})\n",
    "\n",
    "# Plot the feature importances\n",
    "plt.figure(figsize=(10, 6))\n",
    "plt.barh(feature_importance[\"feature\"], feature_importance[\"importance\"])\n",
    "plt.xlabel('Importance')\n",
    "plt.title('Feature Importances')\n",
    "plt.show()"
   ]
  },
  {
   "cell_type": "code",
   "execution_count": null,
   "metadata": {},
   "outputs": [],
   "source": [
    "# Original features: ['age', 'sex', 'cp', 'trestbps', 'chol', 'fbs', 'restecg', 'thalach', 'exang', 'slope', 'ca', 'thal']\n",
    "# Selected features: ['cp', 'thalach', 'ca', 'thal']"
   ]
  }
 ],
 "metadata": {
  "language_info": {
   "name": "python"
  }
 },
 "nbformat": 4,
 "nbformat_minor": 2
}
