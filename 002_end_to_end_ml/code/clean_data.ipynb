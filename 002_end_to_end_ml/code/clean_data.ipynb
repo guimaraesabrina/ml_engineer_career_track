{
 "cells": [
  {
   "cell_type": "code",
   "execution_count": null,
   "metadata": {},
   "outputs": [],
   "source": [
    "heart_disease_df = pd.read_csv('heart_disease.csv')"
   ]
  },
  {
   "cell_type": "code",
   "execution_count": null,
   "metadata": {},
   "outputs": [],
   "source": [
    "# Drop empty columns\n",
    "heart_disease_column_dropped = heart_disease_df.drop(['oldpeak'], axis=1)\n",
    "\n",
    "# Drop duplicate rows\n",
    "heart_disease_duplicates_dropped = heart_disease_column_dropped.drop_duplicates()\n",
    "\n",
    "# Calculate the mean value of the restecg column\n",
    "mean_value = heart_disease_duplicates_dropped['restecg'].mean()\n",
    "\n",
    "# Impute missing values with the mean\n",
    "heart_disease_duplicates_dropped['restecg'].fillna(mean_value, inplace=True)\n",
    "\n",
    "# Check if there are any missing values left in the 'restecg' column\n",
    "print(heart_disease_duplicates_dropped['restecg'].isna().any())"
   ]
  }
 ],
 "metadata": {
  "language_info": {
   "name": "python"
  }
 },
 "nbformat": 4,
 "nbformat_minor": 2
}
