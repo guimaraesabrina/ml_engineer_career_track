{
 "cells": [
  {
   "cell_type": "code",
   "execution_count": null,
   "metadata": {},
   "outputs": [],
   "source": [
    "import matplotlib as plt"
   ]
  },
  {
   "cell_type": "code",
   "execution_count": null,
   "metadata": {},
   "outputs": [],
   "source": [
    "# Extract the 'age' column from X_train\n",
    "age = X_train['age']\n",
    "\n",
    "# Create a figure and plot the histogram\n",
    "plt.figure(figsize=(10,5))\n",
    "plt.hist(age, bins=30, alpha=0.5, label='Original')\n",
    "plt.legend(prop={'size': 16})\n",
    "plt.title('Histogram of Original Age')\n",
    "plt.xlabel('Age')\n",
    "plt.ylabel('Count')\n",
    "plt.show()"
   ]
  },
  {
   "cell_type": "code",
   "execution_count": null,
   "metadata": {},
   "outputs": [],
   "source": [
    "# Normalize 'age' on the training set\n",
    "normalizer = MinMaxScaler()\n",
    "X_train['age'] = normalizer.fit_transform(X_train['age'].values.reshape(-1, 1))\n",
    "\n",
    "# Use the same normalizer to transform the 'age' column of the test set to avoid data leakage\n",
    "X_test['age'] = normalizer.transform(X_test['age'].values.reshape(-1, 1))\n",
    "\n",
    "# Create a figure and plot the histogram for normalized age\n",
    "plt.figure(figsize=(10,5))\n",
    "plt.hist(X_train['age'], bins=30, alpha=0.5, label='Normalized')\n",
    "plt.legend(prop={'size': 16})\n",
    "plt.title('Histogram with Normalized Age')\n",
    "plt.xlabel('Normalized Age')\n",
    "plt.ylabel('Count')\n",
    "plt.show()"
   ]
  },
  {
   "cell_type": "code",
   "execution_count": null,
   "metadata": {},
   "outputs": [],
   "source": [
    "# Initializes a MinMaxScaler object called normalizer.\n",
    "# Uses fit_transform() to fit the scaler to the 'age' data from X_train and transform it, ensuring the data is scaled between 0 and 1.\n",
    "# Uses transform() with the previously fitted scaler on X_test['age'] to ensure consistent scaling and prevent data leakage.\n",
    "# Plots the histogram of the normalized 'age' data from X_train to visualize the distribution after normalization."
   ]
  },
  {
   "cell_type": "code",
   "execution_count": null,
   "metadata": {},
   "outputs": [],
   "source": [
    "# Standardize 'age' on the training set\n",
    "standardizer = StandardScaler()\n",
    "X_train['age'] = standardizer.fit_transform(X_train['age'].values.reshape(-1, 1))\n",
    "X_test['age'] = standardizer.transform(X_test['age'].values.reshape(-1, 1))\n",
    "\n",
    "# Create a figure and plot the histogram for standardized age\n",
    "plt.figure(figsize=(10,5))\n",
    "plt.hist(X_train['age'], bins=30, alpha=0.5, label='Standardized')\n",
    "plt.legend(prop={'size': 16})\n",
    "plt.title('Histogram with Standardized Age')\n",
    "plt.xlabel('Standardized Age')\n",
    "plt.ylabel('Count')\n",
    "plt.show()"
   ]
  },
  {
   "cell_type": "code",
   "execution_count": null,
   "metadata": {},
   "outputs": [],
   "source": [
    "# Initializes a StandardScaler object called standardizer.\n",
    "# Uses fit_transform() to fit the scaler to the 'age' data from X_train and transform it, converting it to have zero mean and unit variance.\n",
    "# Uses transform() with the previously fitted scaler on X_test['age'] to ensure consistent scaling and prevent data leakage.\n",
    "# Plots the histogram of the standardized 'age' data from X_train to visualize the distribution after standardization."
   ]
  }
 ],
 "metadata": {
  "language_info": {
   "name": "python"
  }
 },
 "nbformat": 4,
 "nbformat_minor": 2
}
