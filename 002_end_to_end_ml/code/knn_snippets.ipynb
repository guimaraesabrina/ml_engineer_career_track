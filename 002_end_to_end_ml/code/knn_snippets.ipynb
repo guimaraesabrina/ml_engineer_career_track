{
 "cells": [
  {
   "cell_type": "code",
   "execution_count": null,
   "metadata": {},
   "outputs": [],
   "source": [
    "from sklearn.impute import KNNImputer\n",
    "import pandas as pd"
   ]
  },
  {
   "cell_type": "code",
   "execution_count": null,
   "metadata": {},
   "outputs": [],
   "source": [
    "heart_disease_df = pd.read_csv('heart_disease.csv')"
   ]
  },
  {
   "cell_type": "code",
   "execution_count": null,
   "metadata": {},
   "outputs": [],
   "source": [
    "# Define a function to input missing values in a dataframe\n",
    "def input_missing_values():\n",
    "    # Create an instance of the KNNImputer class with n_neighbors=2 and weights=\"uniform\"\n",
    "    imputer = KNNImputer(n_neighbors=2, weights=\"uniform\")\n",
    "    \n",
    "    # Use the imputer to fill in missing values in the dataframe df and store the result in df_inputed\n",
    "    df_inputed = imputer.fit_transform(heart_disease_df)\n",
    "    \n",
    "    # Return the dataframe with the missing values inputed\n",
    "    return df_inputed"
   ]
  },
  {
   "cell_type": "code",
   "execution_count": null,
   "metadata": {},
   "outputs": [],
   "source": [
    "\"\"\"Machine Learning-informed imputation such as this is often a more nuanced and helpful approach than standard imputation as it can improve model performance downstream.\"\"\""
   ]
  }
 ],
 "metadata": {
  "kernelspec": {
   "display_name": "generative",
   "language": "python",
   "name": "python3"
  },
  "language_info": {
   "name": "python",
   "version": "3.10.0"
  }
 },
 "nbformat": 4,
 "nbformat_minor": 2
}
