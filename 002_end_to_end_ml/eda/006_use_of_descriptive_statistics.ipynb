{
 "cells": [
  {
   "cell_type": "markdown",
   "metadata": {},
   "source": [
    "# Use of Descriptive Statistics\n",
    "- **Statistical Summaries**: Use `df.describe()` to get a statistical summary of numeric features.\n",
    "- **Statistical Tests**: Conduct appropriate tests to understand the statistical properties of variables."
   ]
  }
 ],
 "metadata": {
  "language_info": {
   "name": "python"
  }
 },
 "nbformat": 4,
 "nbformat_minor": 2
}
