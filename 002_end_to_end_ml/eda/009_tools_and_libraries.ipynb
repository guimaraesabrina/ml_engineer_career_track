{
 "cells": [
  {
   "cell_type": "markdown",
   "metadata": {},
   "source": [
    "# Tools and Libraries EDA\n",
    "- Pandas: For data manipulation and cleaning.\n",
    "- NumPy: For numerical operations.\n",
    "- Matplotlib/Seaborn/Plotly: For data visualization.\n",
    "- Scipy: For more complex statistical tests and analyses."
   ]
  }
 ],
 "metadata": {
  "language_info": {
   "name": "python"
  }
 },
 "nbformat": 4,
 "nbformat_minor": 2
}
